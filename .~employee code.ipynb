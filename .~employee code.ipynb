{
 "cells": [
  {
   "cell_type": "code",
   "execution_count": 1,
   "id": "c1bc2c68",
   "metadata": {},
   "outputs": [
    {
     "name": "stdout",
     "output_type": "stream",
     "text": [
      "()\n",
      "(1, 2, 3)\n",
      "(1, 'Hello', 3.4)\n",
      "('mouse', [8, 4, 6], (1, 2, 3))\n"
     ]
    }
   ],
   "source": [
    "# Different types of tuples\n",
    "\n",
    "# Empty tuple\n",
    "my_tuple = ()\n",
    "print(my_tuple)\n",
    "\n",
    "# Tuple having integers\n",
    "my_tuple = (1, 2, 3)\n",
    "print(my_tuple)\n",
    "\n",
    "# tuple with mixed datatypes\n",
    "my_tuple = (1, \"Hello\", 3.4)\n",
    "print(my_tuple)\n",
    "\n",
    "# nested tuple\n",
    "my_tuple = (\"mouse\", [8, 4, 6], (1, 2, 3))\n",
    "print(my_tuple)"
   ]
  },
  {
   "cell_type": "code",
   "execution_count": 3,
   "id": "41824d42",
   "metadata": {},
   "outputs": [
    {
     "name": "stdout",
     "output_type": "stream",
     "text": [
      "   empno    ename qualification subject\n",
      "0    101     ramu            be      cs\n",
      "1    102     bhim       diplomo      me\n",
      "2    103  maneesh         mtech      ec\n",
      "3    104   lokesh           bsc      at\n",
      "4    105  prithvi           msc      ce\n"
     ]
    }
   ],
   "source": [
    "import pandas as pd\n",
    "data={\n",
    "    'empno':[101,102,103,104,105],\n",
    "    'ename':['ramu','bhim','maneesh','lokesh','prithvi'],\n",
    "    'qualification':['be','diplomo','mtech','bsc','msc'],\n",
    "    'subject':['cs','me','ec','at','ce']\n",
    "}\n",
    "df=pd.DataFrame(data)\n",
    "print(df)"
   ]
  },
  {
   "cell_type": "code",
   "execution_count": 4,
   "id": "827f700c",
   "metadata": {},
   "outputs": [
    {
     "name": "stdout",
     "output_type": "stream",
     "text": [
      "0    101\n",
      "1    102\n",
      "2    103\n",
      "3    104\n",
      "4    105\n",
      "Name: empno, dtype: int64\n",
      "   empno    ename\n",
      "0    101     ramu\n",
      "1    102     bhim\n",
      "2    103  maneesh\n",
      "3    104   lokesh\n",
      "4    105  prithvi\n"
     ]
    }
   ],
   "source": [
    "print(df['empno'])\n",
    "print(df[['empno','ename']])"
   ]
  },
  {
   "cell_type": "code",
   "execution_count": 5,
   "id": "f35a06b8",
   "metadata": {},
   "outputs": [
    {
     "name": "stdout",
     "output_type": "stream",
     "text": [
      "   empno    ename qualification subject  salary\n",
      "0    101     ramu            be      cs   60000\n",
      "1    102     bhim       diplomo      me   80000\n",
      "2    103  maneesh         mtech      ec   75000\n",
      "3    104   lokesh           bsc      at   90000\n",
      "4    105  prithvi           msc      ce   50000\n"
     ]
    }
   ],
   "source": [
    "df['salary']=[60000,80000,75000,90000,50000]\n",
    "print(df)"
   ]
  },
  {
   "cell_type": "code",
   "execution_count": 6,
   "id": "43ddb54d",
   "metadata": {},
   "outputs": [
    {
     "name": "stdout",
     "output_type": "stream",
     "text": [
      "   empno    ename qualification subject  salary  age\n",
      "0    101     ramu            be      cs   60000   43\n",
      "1    102     bhim       diplomo      me   80000   28\n",
      "2    103  maneesh         mtech      ec   75000   24\n",
      "3    104   lokesh           bsc      at   90000   32\n",
      "4    105  prithvi           msc      ce   50000   50\n"
     ]
    }
   ],
   "source": [
    "df['age']=[43,28,24,32,50]\n",
    "print(df)"
   ]
  },
  {
   "cell_type": "code",
   "execution_count": 7,
   "id": "1efd062e",
   "metadata": {},
   "outputs": [
    {
     "name": "stdout",
     "output_type": "stream",
     "text": [
      "   empno    ename qualification subject  salary  age\n",
      "1    102     bhim       diplomo      me   80000   28\n",
      "2    103  maneesh         mtech      ec   75000   24\n"
     ]
    }
   ],
   "source": [
    "young_people=df[df['age']<30]\n",
    "print(young_people)"
   ]
  },
  {
   "cell_type": "code",
   "execution_count": 8,
   "id": "8fe51ada",
   "metadata": {},
   "outputs": [
    {
     "name": "stdout",
     "output_type": "stream",
     "text": [
      "   empno    ename qualification subject  salary  age\n",
      "0    101     ramu            be      cs   60000   43\n",
      "1    102     bhim       diplomo      me   80000   28\n",
      "2    103  maneesh         mtech      ec   75000   24\n",
      "4    105  prithvi           msc      ce   50000   50\n"
     ]
    }
   ],
   "source": [
    "highest_salary=df[df['salary']<90000]\n",
    "print(highest_salary)"
   ]
  },
  {
   "cell_type": "code",
   "execution_count": 10,
   "id": "68d501c7",
   "metadata": {},
   "outputs": [
    {
     "name": "stdout",
     "output_type": "stream",
     "text": [
      "   empno    ename qualification subject  salary  age\n",
      "2    103  maneesh         mtech      ec   75000   24\n",
      "1    102     bhim       diplomo      me   80000   28\n",
      "3    104   lokesh           bsc      at   90000   32\n",
      "0    101     ramu            be      cs   60000   43\n",
      "4    105  prithvi           msc      ce   50000   50\n"
     ]
    }
   ],
   "source": [
    "sorted_df=df.sort_values(by='age')\n",
    "print(sorted_df)"
   ]
  },
  {
   "cell_type": "code",
   "execution_count": null,
   "id": "c831c7b9",
   "metadata": {},
   "outputs": [],
   "source": []
  }
 ],
 "metadata": {
  "kernelspec": {
   "display_name": "Python 3 (ipykernel)",
   "language": "python",
   "name": "python3"
  },
  "language_info": {
   "codemirror_mode": {
    "name": "ipython",
    "version": 3
   },
   "file_extension": ".py",
   "mimetype": "text/x-python",
   "name": "python",
   "nbconvert_exporter": "python",
   "pygments_lexer": "ipython3",
   "version": "3.11.4"
  }
 },
 "nbformat": 4,
 "nbformat_minor": 5
}
